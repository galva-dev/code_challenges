{
 "cells": [
  {
   "cell_type": "code",
   "execution_count": 1,
   "metadata": {},
   "outputs": [
    {
     "name": "stdout",
     "output_type": "stream",
     "text": [
      "        Name Given Name Additional Name Family Name  Yomi Name  \\\n",
      "97   Cliford    Cliford             NaN         NaN        NaN   \n",
      "117    Denil      Denil             NaN         NaN        NaN   \n",
      "160     Hugo       Hugo             NaN         NaN        NaN   \n",
      "187     Josh       Josh             NaN         NaN        NaN   \n",
      "\n",
      "     Given Name Yomi  Additional Name Yomi  Family Name Yomi  Name Prefix  \\\n",
      "97               NaN                   NaN               NaN          NaN   \n",
      "117              NaN                   NaN               NaN          NaN   \n",
      "160              NaN                   NaN               NaN          NaN   \n",
      "187              NaN                   NaN               NaN          NaN   \n",
      "\n",
      "     Name Suffix  ...  Phone 2 - Type  Phone 2 - Value  Organization 1 - Type  \\\n",
      "97           NaN  ...             NaN              NaN                    NaN   \n",
      "117          NaN  ...             NaN              NaN                    NaN   \n",
      "160          NaN  ...             NaN              NaN                    NaN   \n",
      "187          NaN  ...             NaN              NaN                    NaN   \n",
      "\n",
      "     Organization 1 - Name  Organization 1 - Yomi Name  \\\n",
      "97                     NaN                         NaN   \n",
      "117                    NaN                         NaN   \n",
      "160                    NaN                         NaN   \n",
      "187                    NaN                         NaN   \n",
      "\n",
      "     Organization 1 - Title  Organization 1 - Department  \\\n",
      "97                      NaN                          NaN   \n",
      "117                     NaN                          NaN   \n",
      "160                     NaN                          NaN   \n",
      "187                     NaN                          NaN   \n",
      "\n",
      "     Organization 1 - Symbol  Organization 1 - Location  \\\n",
      "97                       NaN                        NaN   \n",
      "117                      NaN                        NaN   \n",
      "160                      NaN                        NaN   \n",
      "187                      NaN                        NaN   \n",
      "\n",
      "     Organization 1 - Job Description  \n",
      "97                                NaN  \n",
      "117                               NaN  \n",
      "160                               NaN  \n",
      "187                               NaN  \n",
      "\n",
      "[4 rows x 42 columns]\n"
     ]
    }
   ],
   "source": [
    "import pandas as pd\n",
    "\n",
    "# Read the first CSV file\n",
    "df1 = pd.read_csv('contacts (6).csv')\n",
    "\n",
    "# Read the second CSV file\n",
    "df2 = pd.read_csv('contacts (8).csv')\n",
    "\n",
    "# Compare the contacts in both files\n",
    "diff_contacts = pd.concat([df1, df2]).drop_duplicates(keep=False)\n",
    "\n",
    "# Print the difference in contacts\n",
    "print(diff_contacts)"
   ]
  }
 ],
 "metadata": {
  "kernelspec": {
   "display_name": "env_code_challenges",
   "language": "python",
   "name": "python3"
  },
  "language_info": {
   "codemirror_mode": {
    "name": "ipython",
    "version": 3
   },
   "file_extension": ".py",
   "mimetype": "text/x-python",
   "name": "python",
   "nbconvert_exporter": "python",
   "pygments_lexer": "ipython3",
   "version": "3.12.1"
  }
 },
 "nbformat": 4,
 "nbformat_minor": 2
}
